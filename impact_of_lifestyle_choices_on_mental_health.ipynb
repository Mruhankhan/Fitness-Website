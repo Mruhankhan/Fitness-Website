{
 "cells": [
  {
   "cell_type": "code",
   "execution_count": 96,
   "id": "d714ea5b",
   "metadata": {},
   "outputs": [],
   "source": [
    "import pandas as pd\n",
    "import numpy as np\n",
    "import missingno as msno"
   ]
  },
  {
   "cell_type": "code",
   "execution_count": 97,
   "id": "dbc0f8ae",
   "metadata": {},
   "outputs": [
    {
     "name": "stdout",
     "output_type": "stream",
     "text": [
      "WARNING *** file size (5207429) not 512 + multiple of sector size (512)\n",
      "WARNING *** OLE2 inconsistency: SSCS size is 0 but SSAT size is non-zero\n"
     ]
    },
    {
     "data": {
      "text/html": [
       "<div>\n",
       "<style scoped>\n",
       "    .dataframe tbody tr th:only-of-type {\n",
       "        vertical-align: middle;\n",
       "    }\n",
       "\n",
       "    .dataframe tbody tr th {\n",
       "        vertical-align: top;\n",
       "    }\n",
       "\n",
       "    .dataframe thead th {\n",
       "        text-align: right;\n",
       "    }\n",
       "</style>\n",
       "<table border=\"1\" class=\"dataframe\">\n",
       "  <thead>\n",
       "    <tr style=\"text-align: right;\">\n",
       "      <th></th>\n",
       "      <th>code</th>\n",
       "      <th>gender</th>\n",
       "      <th>age</th>\n",
       "      <th>bmi_t1</th>\n",
       "      <th>spo_t1</th>\n",
       "      <th>cul_t1</th>\n",
       "      <th>alc_t1</th>\n",
       "      <th>nic_t1</th>\n",
       "      <th>veg_t1</th>\n",
       "      <th>rhy10_t1</th>\n",
       "      <th>pmh9_t1</th>\n",
       "      <th>dass_t1</th>\n",
       "      <th>pmh9_t2</th>\n",
       "      <th>dass_t2</th>\n",
       "      <th>FU</th>\n",
       "      <th>ms_t1</th>\n",
       "      <th>CH</th>\n",
       "      <th>match_group</th>\n",
       "      <th>match</th>\n",
       "    </tr>\n",
       "  </thead>\n",
       "  <tbody>\n",
       "    <tr>\n",
       "      <th>0</th>\n",
       "      <td>2002219</td>\n",
       "      <td>1</td>\n",
       "      <td>21.0</td>\n",
       "      <td>20.132348</td>\n",
       "      <td>1</td>\n",
       "      <td>1</td>\n",
       "      <td>0</td>\n",
       "      <td>0</td>\n",
       "      <td>0</td>\n",
       "      <td>25</td>\n",
       "      <td>26</td>\n",
       "      <td>1</td>\n",
       "      <td>21</td>\n",
       "      <td>9</td>\n",
       "      <td>1</td>\n",
       "      <td>0</td>\n",
       "      <td>1</td>\n",
       "      <td>1.322603e+09</td>\n",
       "      <td>9557.0</td>\n",
       "    </tr>\n",
       "    <tr>\n",
       "      <th>1</th>\n",
       "      <td>2</td>\n",
       "      <td>0</td>\n",
       "      <td>20.0</td>\n",
       "      <td>20.528922</td>\n",
       "      <td>3</td>\n",
       "      <td>4</td>\n",
       "      <td>1</td>\n",
       "      <td>0</td>\n",
       "      <td>0</td>\n",
       "      <td>44</td>\n",
       "      <td>14</td>\n",
       "      <td>25</td>\n",
       "      <td>18</td>\n",
       "      <td>7</td>\n",
       "      <td>1</td>\n",
       "      <td>0</td>\n",
       "      <td>1</td>\n",
       "      <td>1.127196e+09</td>\n",
       "      <td>9555.0</td>\n",
       "    </tr>\n",
       "    <tr>\n",
       "      <th>2</th>\n",
       "      <td>151110900033</td>\n",
       "      <td>0</td>\n",
       "      <td>20.0</td>\n",
       "      <td>20.515086</td>\n",
       "      <td>4</td>\n",
       "      <td>4</td>\n",
       "      <td>3</td>\n",
       "      <td>1</td>\n",
       "      <td>1</td>\n",
       "      <td>40</td>\n",
       "      <td>27</td>\n",
       "      <td>3</td>\n",
       "      <td>99</td>\n",
       "      <td>99</td>\n",
       "      <td>0</td>\n",
       "      <td>0</td>\n",
       "      <td>1</td>\n",
       "      <td>1.127196e+09</td>\n",
       "      <td>9553.0</td>\n",
       "    </tr>\n",
       "    <tr>\n",
       "      <th>3</th>\n",
       "      <td>110153320</td>\n",
       "      <td>1</td>\n",
       "      <td>21.0</td>\n",
       "      <td>20.415225</td>\n",
       "      <td>2</td>\n",
       "      <td>4</td>\n",
       "      <td>0</td>\n",
       "      <td>0</td>\n",
       "      <td>0</td>\n",
       "      <td>14</td>\n",
       "      <td>19</td>\n",
       "      <td>1</td>\n",
       "      <td>26</td>\n",
       "      <td>1</td>\n",
       "      <td>1</td>\n",
       "      <td>0</td>\n",
       "      <td>1</td>\n",
       "      <td>1.322603e+09</td>\n",
       "      <td>9552.0</td>\n",
       "    </tr>\n",
       "    <tr>\n",
       "      <th>4</th>\n",
       "      <td>171112900048</td>\n",
       "      <td>1</td>\n",
       "      <td>21.0</td>\n",
       "      <td>18.066167</td>\n",
       "      <td>2</td>\n",
       "      <td>2</td>\n",
       "      <td>1</td>\n",
       "      <td>0</td>\n",
       "      <td>0</td>\n",
       "      <td>36</td>\n",
       "      <td>24</td>\n",
       "      <td>2</td>\n",
       "      <td>99</td>\n",
       "      <td>99</td>\n",
       "      <td>0</td>\n",
       "      <td>1</td>\n",
       "      <td>1</td>\n",
       "      <td>1.322603e+09</td>\n",
       "      <td>9551.0</td>\n",
       "    </tr>\n",
       "  </tbody>\n",
       "</table>\n",
       "</div>"
      ],
      "text/plain": [
       "           code  gender   age     bmi_t1  spo_t1  cul_t1  alc_t1  nic_t1  \\\n",
       "0       2002219       1  21.0  20.132348       1       1       0       0   \n",
       "1             2       0  20.0  20.528922       3       4       1       0   \n",
       "2  151110900033       0  20.0  20.515086       4       4       3       1   \n",
       "3     110153320       1  21.0  20.415225       2       4       0       0   \n",
       "4  171112900048       1  21.0  18.066167       2       2       1       0   \n",
       "\n",
       "   veg_t1  rhy10_t1  pmh9_t1  dass_t1  pmh9_t2  dass_t2  FU  ms_t1  CH  \\\n",
       "0       0        25       26        1       21        9   1      0   1   \n",
       "1       0        44       14       25       18        7   1      0   1   \n",
       "2       1        40       27        3       99       99   0      0   1   \n",
       "3       0        14       19        1       26        1   1      0   1   \n",
       "4       0        36       24        2       99       99   0      1   1   \n",
       "\n",
       "    match_group   match  \n",
       "0  1.322603e+09  9557.0  \n",
       "1  1.127196e+09  9555.0  \n",
       "2  1.127196e+09  9553.0  \n",
       "3  1.322603e+09  9552.0  \n",
       "4  1.322603e+09  9551.0  "
      ]
     },
     "execution_count": 97,
     "metadata": {},
     "output_type": "execute_result"
    }
   ],
   "source": [
    "data = pd.read_excel(\"data/complete_dataset.xls\")\n",
    "data.head()"
   ]
  },
  {
   "cell_type": "code",
   "execution_count": 98,
   "id": "a8949c15",
   "metadata": {},
   "outputs": [
    {
     "name": "stdout",
     "output_type": "stream",
     "text": [
      "Index(['code', 'gender', 'age', 'bmi_t1', 'spo_t1', 'cul_t1', 'alc_t1',\n",
      "       'nic_t1', 'veg_t1', 'rhy10_t1', 'pmh9_t1', 'dass_t1', 'pmh9_t2',\n",
      "       'dass_t2', 'FU', 'ms_t1', 'CH', 'match_group', 'match'],\n",
      "      dtype='object')\n"
     ]
    }
   ],
   "source": [
    "cols = data.columns\n",
    "print(cols)"
   ]
  },
  {
   "cell_type": "code",
   "execution_count": 99,
   "id": "d9c2f952",
   "metadata": {},
   "outputs": [],
   "source": [
    "wanted_cols  = (\"bmi_t1\", \"spo_t1\", \"cul_t1\", \"alc_t1\", \"nic_t1\", \"rhy10_t1\", \"pmh9_t1\", \"dass_t1\", \"pmh9_t2\", \"dass_t2\")"
   ]
  },
  {
   "cell_type": "code",
   "execution_count": 100,
   "id": "0487b202",
   "metadata": {},
   "outputs": [
    {
     "data": {
      "text/html": [
       "<div>\n",
       "<style scoped>\n",
       "    .dataframe tbody tr th:only-of-type {\n",
       "        vertical-align: middle;\n",
       "    }\n",
       "\n",
       "    .dataframe tbody tr th {\n",
       "        vertical-align: top;\n",
       "    }\n",
       "\n",
       "    .dataframe thead th {\n",
       "        text-align: right;\n",
       "    }\n",
       "</style>\n",
       "<table border=\"1\" class=\"dataframe\">\n",
       "  <thead>\n",
       "    <tr style=\"text-align: right;\">\n",
       "      <th></th>\n",
       "      <th>bmi_t1</th>\n",
       "      <th>spo_t1</th>\n",
       "      <th>cul_t1</th>\n",
       "      <th>alc_t1</th>\n",
       "      <th>nic_t1</th>\n",
       "      <th>rhy10_t1</th>\n",
       "      <th>pmh9_t1</th>\n",
       "      <th>dass_t1</th>\n",
       "      <th>pmh9_t2</th>\n",
       "      <th>dass_t2</th>\n",
       "    </tr>\n",
       "  </thead>\n",
       "  <tbody>\n",
       "    <tr>\n",
       "      <th>0</th>\n",
       "      <td>20.132348</td>\n",
       "      <td>1</td>\n",
       "      <td>1</td>\n",
       "      <td>0</td>\n",
       "      <td>0</td>\n",
       "      <td>25</td>\n",
       "      <td>26</td>\n",
       "      <td>1</td>\n",
       "      <td>21</td>\n",
       "      <td>9</td>\n",
       "    </tr>\n",
       "    <tr>\n",
       "      <th>1</th>\n",
       "      <td>20.528922</td>\n",
       "      <td>3</td>\n",
       "      <td>4</td>\n",
       "      <td>1</td>\n",
       "      <td>0</td>\n",
       "      <td>44</td>\n",
       "      <td>14</td>\n",
       "      <td>25</td>\n",
       "      <td>18</td>\n",
       "      <td>7</td>\n",
       "    </tr>\n",
       "    <tr>\n",
       "      <th>2</th>\n",
       "      <td>20.515086</td>\n",
       "      <td>4</td>\n",
       "      <td>4</td>\n",
       "      <td>3</td>\n",
       "      <td>1</td>\n",
       "      <td>40</td>\n",
       "      <td>27</td>\n",
       "      <td>3</td>\n",
       "      <td>99</td>\n",
       "      <td>99</td>\n",
       "    </tr>\n",
       "    <tr>\n",
       "      <th>3</th>\n",
       "      <td>20.415225</td>\n",
       "      <td>2</td>\n",
       "      <td>4</td>\n",
       "      <td>0</td>\n",
       "      <td>0</td>\n",
       "      <td>14</td>\n",
       "      <td>19</td>\n",
       "      <td>1</td>\n",
       "      <td>26</td>\n",
       "      <td>1</td>\n",
       "    </tr>\n",
       "    <tr>\n",
       "      <th>4</th>\n",
       "      <td>18.066167</td>\n",
       "      <td>2</td>\n",
       "      <td>2</td>\n",
       "      <td>1</td>\n",
       "      <td>0</td>\n",
       "      <td>36</td>\n",
       "      <td>24</td>\n",
       "      <td>2</td>\n",
       "      <td>99</td>\n",
       "      <td>99</td>\n",
       "    </tr>\n",
       "  </tbody>\n",
       "</table>\n",
       "</div>"
      ],
      "text/plain": [
       "      bmi_t1  spo_t1  cul_t1  alc_t1  nic_t1  rhy10_t1  pmh9_t1  dass_t1  \\\n",
       "0  20.132348       1       1       0       0        25       26        1   \n",
       "1  20.528922       3       4       1       0        44       14       25   \n",
       "2  20.515086       4       4       3       1        40       27        3   \n",
       "3  20.415225       2       4       0       0        14       19        1   \n",
       "4  18.066167       2       2       1       0        36       24        2   \n",
       "\n",
       "   pmh9_t2  dass_t2  \n",
       "0       21        9  \n",
       "1       18        7  \n",
       "2       99       99  \n",
       "3       26        1  \n",
       "4       99       99  "
      ]
     },
     "execution_count": 100,
     "metadata": {},
     "output_type": "execute_result"
    }
   ],
   "source": [
    "data_new = data.loc[:, wanted_cols]\n",
    "data_new.head()"
   ]
  },
  {
   "cell_type": "code",
   "execution_count": 101,
   "id": "e39e55de",
   "metadata": {},
   "outputs": [],
   "source": [
    "wanted_cols  = [\"bmi\", \"physical_activity\", \"mental_activity\", \"alcohol\", \"smoking\", \"social_rhythm\", \"positive_mental_score_t1\", \"negative_mental_score_t1\", \"positive_mental_score_t2\", \"negative_mental_score_t2\"]"
   ]
  },
  {
   "cell_type": "code",
   "execution_count": 102,
   "id": "6757b683",
   "metadata": {},
   "outputs": [
    {
     "name": "stdout",
     "output_type": "stream",
     "text": [
      "10\n",
      "10\n"
     ]
    }
   ],
   "source": [
    "print(len(data_new.columns))\n",
    "print(len(wanted_cols))"
   ]
  },
  {
   "cell_type": "code",
   "execution_count": 103,
   "id": "b1b4df6a",
   "metadata": {},
   "outputs": [],
   "source": [
    "data_new.columns = wanted_cols"
   ]
  },
  {
   "cell_type": "code",
   "execution_count": 104,
   "id": "d956a52e",
   "metadata": {},
   "outputs": [
    {
     "data": {
      "text/html": [
       "<div>\n",
       "<style scoped>\n",
       "    .dataframe tbody tr th:only-of-type {\n",
       "        vertical-align: middle;\n",
       "    }\n",
       "\n",
       "    .dataframe tbody tr th {\n",
       "        vertical-align: top;\n",
       "    }\n",
       "\n",
       "    .dataframe thead th {\n",
       "        text-align: right;\n",
       "    }\n",
       "</style>\n",
       "<table border=\"1\" class=\"dataframe\">\n",
       "  <thead>\n",
       "    <tr style=\"text-align: right;\">\n",
       "      <th></th>\n",
       "      <th>bmi</th>\n",
       "      <th>physical_activity</th>\n",
       "      <th>mental_activity</th>\n",
       "      <th>alcohol</th>\n",
       "      <th>smoking</th>\n",
       "      <th>social_rhythm</th>\n",
       "      <th>positive_mental_score_t1</th>\n",
       "      <th>negative_mental_score_t1</th>\n",
       "      <th>positive_mental_score_t2</th>\n",
       "      <th>negative_mental_score_t2</th>\n",
       "    </tr>\n",
       "  </thead>\n",
       "  <tbody>\n",
       "    <tr>\n",
       "      <th>0</th>\n",
       "      <td>20.132348</td>\n",
       "      <td>1</td>\n",
       "      <td>1</td>\n",
       "      <td>0</td>\n",
       "      <td>0</td>\n",
       "      <td>25</td>\n",
       "      <td>26</td>\n",
       "      <td>1</td>\n",
       "      <td>21</td>\n",
       "      <td>9</td>\n",
       "    </tr>\n",
       "    <tr>\n",
       "      <th>1</th>\n",
       "      <td>20.528922</td>\n",
       "      <td>3</td>\n",
       "      <td>4</td>\n",
       "      <td>1</td>\n",
       "      <td>0</td>\n",
       "      <td>44</td>\n",
       "      <td>14</td>\n",
       "      <td>25</td>\n",
       "      <td>18</td>\n",
       "      <td>7</td>\n",
       "    </tr>\n",
       "    <tr>\n",
       "      <th>2</th>\n",
       "      <td>20.515086</td>\n",
       "      <td>4</td>\n",
       "      <td>4</td>\n",
       "      <td>3</td>\n",
       "      <td>1</td>\n",
       "      <td>40</td>\n",
       "      <td>27</td>\n",
       "      <td>3</td>\n",
       "      <td>99</td>\n",
       "      <td>99</td>\n",
       "    </tr>\n",
       "    <tr>\n",
       "      <th>3</th>\n",
       "      <td>20.415225</td>\n",
       "      <td>2</td>\n",
       "      <td>4</td>\n",
       "      <td>0</td>\n",
       "      <td>0</td>\n",
       "      <td>14</td>\n",
       "      <td>19</td>\n",
       "      <td>1</td>\n",
       "      <td>26</td>\n",
       "      <td>1</td>\n",
       "    </tr>\n",
       "    <tr>\n",
       "      <th>4</th>\n",
       "      <td>18.066167</td>\n",
       "      <td>2</td>\n",
       "      <td>2</td>\n",
       "      <td>1</td>\n",
       "      <td>0</td>\n",
       "      <td>36</td>\n",
       "      <td>24</td>\n",
       "      <td>2</td>\n",
       "      <td>99</td>\n",
       "      <td>99</td>\n",
       "    </tr>\n",
       "  </tbody>\n",
       "</table>\n",
       "</div>"
      ],
      "text/plain": [
       "         bmi  physical_activity  mental_activity  alcohol  smoking  \\\n",
       "0  20.132348                  1                1        0        0   \n",
       "1  20.528922                  3                4        1        0   \n",
       "2  20.515086                  4                4        3        1   \n",
       "3  20.415225                  2                4        0        0   \n",
       "4  18.066167                  2                2        1        0   \n",
       "\n",
       "   social_rhythm  positive_mental_score_t1  negative_mental_score_t1  \\\n",
       "0             25                        26                         1   \n",
       "1             44                        14                        25   \n",
       "2             40                        27                         3   \n",
       "3             14                        19                         1   \n",
       "4             36                        24                         2   \n",
       "\n",
       "   positive_mental_score_t2  negative_mental_score_t2  \n",
       "0                        21                         9  \n",
       "1                        18                         7  \n",
       "2                        99                        99  \n",
       "3                        26                         1  \n",
       "4                        99                        99  "
      ]
     },
     "execution_count": 104,
     "metadata": {},
     "output_type": "execute_result"
    }
   ],
   "source": [
    "data_new.head()"
   ]
  },
  {
   "cell_type": "code",
   "execution_count": 105,
   "id": "ba3189f8",
   "metadata": {},
   "outputs": [
    {
     "data": {
      "text/plain": [
       "(15365, 10)"
      ]
     },
     "execution_count": 105,
     "metadata": {},
     "output_type": "execute_result"
    }
   ],
   "source": [
    "data_new.shape"
   ]
  },
  {
   "cell_type": "code",
   "execution_count": 106,
   "id": "ee651b6e",
   "metadata": {},
   "outputs": [
    {
     "data": {
      "text/plain": [
       "<matplotlib.axes._subplots.AxesSubplot at 0x7f7aa0e40e80>"
      ]
     },
     "execution_count": 106,
     "metadata": {},
     "output_type": "execute_result"
    },
    {
     "data": {
      "image/png": "[encoded data removed]",
      "text/plain": [
       "<Figure size 1800x720 with 2 Axes>"
      ]
     },
     "metadata": {
      "needs_background": "light"
     },
     "output_type": "display_data"
    }
   ],
   "source": [
    "msno.matrix(data_new)"
   ]
  },
  {
   "cell_type": "code",
   "execution_count": 107,
   "id": "70a94293",
   "metadata": {},
   "outputs": [],
   "source": [
    "pos_1 = data_new.loc[:, \"positive_mental_score_t1\"]\n",
    "pos_2 = data_new.loc[:, \"positive_mental_score_t2\"]\n",
    "neg_1 = data_new.loc[:, \"negative_mental_score_t1\"]\n",
    "neg_2 = data_new.loc[:, \"negative_mental_score_t2\"]"
   ]
  },
  {
   "cell_type": "code",
   "execution_count": 108,
   "id": "33b24496",
   "metadata": {},
   "outputs": [],
   "source": [
    "def get_composite_score(pos1, pos2, neg1, neg2):\n",
    "    return pos1**2 + pos2**2 - neg1**2 - neg2**2"
   ]
  },
  {
   "cell_type": "code",
   "execution_count": 109,
   "id": "eba8693f",
   "metadata": {},
   "outputs": [
    {
     "name": "stdout",
     "output_type": "stream",
     "text": [
      "26\n",
      "21\n",
      "1\n",
      "9\n"
     ]
    }
   ],
   "source": [
    "print(pos_1.loc[0])\n",
    "print(pos_2.loc[0])\n",
    "print(neg_1.loc[0])\n",
    "print(neg_2.loc[0])"
   ]
  },
  {
   "cell_type": "code",
   "execution_count": 110,
   "id": "d7f6e078",
   "metadata": {},
   "outputs": [
    {
     "data": {
      "text/plain": [
       "1035"
      ]
     },
     "execution_count": 110,
     "metadata": {},
     "output_type": "execute_result"
    }
   ],
   "source": [
    "get_composite_score(pos_1.loc[0], pos_2.loc[0], neg_1.loc[0], neg_2.loc[0])"
   ]
  },
  {
   "cell_type": "code",
   "execution_count": 111,
   "id": "587fa0cd",
   "metadata": {},
   "outputs": [
    {
     "name": "stdout",
     "output_type": "stream",
     "text": [
      "[1035, -154, 720, 1035, 572, 929, -103, 0, -369, -237]\n"
     ]
    }
   ],
   "source": [
    "composite_scores = []\n",
    "\n",
    "for i in range(len(pos_1)):\n",
    "    this_score = get_composite_score(pos_1.loc[i], pos_2.loc[i], neg_1.loc[i], neg_2.loc[i])\n",
    "    composite_scores.append(this_score)\n",
    "\n",
    "print(composite_scores[:10])"
   ]
  },
  {
   "cell_type": "code",
   "execution_count": 115,
   "id": "65967b6c",
   "metadata": {},
   "outputs": [],
   "source": [
    "input_cols  = (\"bmi\", \"physical_activity\", \"mental_activity\", \"alcohol\", \"smoking\", \"social_rhythm\")"
   ]
  },
  {
   "cell_type": "code",
   "execution_count": 116,
   "id": "c03699d3",
   "metadata": {},
   "outputs": [
    {
     "data": {
      "text/html": [
       "<div>\n",
       "<style scoped>\n",
       "    .dataframe tbody tr th:only-of-type {\n",
       "        vertical-align: middle;\n",
       "    }\n",
       "\n",
       "    .dataframe tbody tr th {\n",
       "        vertical-align: top;\n",
       "    }\n",
       "\n",
       "    .dataframe thead th {\n",
       "        text-align: right;\n",
       "    }\n",
       "</style>\n",
       "<table border=\"1\" class=\"dataframe\">\n",
       "  <thead>\n",
       "    <tr style=\"text-align: right;\">\n",
       "      <th></th>\n",
       "      <th>bmi</th>\n",
       "      <th>physical_activity</th>\n",
       "      <th>mental_activity</th>\n",
       "      <th>alcohol</th>\n",
       "      <th>smoking</th>\n",
       "      <th>social_rhythm</th>\n",
       "      <th>positive_mental_score_t1</th>\n",
       "      <th>negative_mental_score_t1</th>\n",
       "      <th>positive_mental_score_t2</th>\n",
       "      <th>negative_mental_score_t2</th>\n",
       "    </tr>\n",
       "  </thead>\n",
       "  <tbody>\n",
       "    <tr>\n",
       "      <th>0</th>\n",
       "      <td>20.132348</td>\n",
       "      <td>1</td>\n",
       "      <td>1</td>\n",
       "      <td>0</td>\n",
       "      <td>0</td>\n",
       "      <td>25</td>\n",
       "      <td>26</td>\n",
       "      <td>1</td>\n",
       "      <td>21</td>\n",
       "      <td>9</td>\n",
       "    </tr>\n",
       "    <tr>\n",
       "      <th>1</th>\n",
       "      <td>20.528922</td>\n",
       "      <td>3</td>\n",
       "      <td>4</td>\n",
       "      <td>1</td>\n",
       "      <td>0</td>\n",
       "      <td>44</td>\n",
       "      <td>14</td>\n",
       "      <td>25</td>\n",
       "      <td>18</td>\n",
       "      <td>7</td>\n",
       "    </tr>\n",
       "    <tr>\n",
       "      <th>2</th>\n",
       "      <td>20.515086</td>\n",
       "      <td>4</td>\n",
       "      <td>4</td>\n",
       "      <td>3</td>\n",
       "      <td>1</td>\n",
       "      <td>40</td>\n",
       "      <td>27</td>\n",
       "      <td>3</td>\n",
       "      <td>99</td>\n",
       "      <td>99</td>\n",
       "    </tr>\n",
       "    <tr>\n",
       "      <th>3</th>\n",
       "      <td>20.415225</td>\n",
       "      <td>2</td>\n",
       "      <td>4</td>\n",
       "      <td>0</td>\n",
       "      <td>0</td>\n",
       "      <td>14</td>\n",
       "      <td>19</td>\n",
       "      <td>1</td>\n",
       "      <td>26</td>\n",
       "      <td>1</td>\n",
       "    </tr>\n",
       "    <tr>\n",
       "      <th>4</th>\n",
       "      <td>18.066167</td>\n",
       "      <td>2</td>\n",
       "      <td>2</td>\n",
       "      <td>1</td>\n",
       "      <td>0</td>\n",
       "      <td>36</td>\n",
       "      <td>24</td>\n",
       "      <td>2</td>\n",
       "      <td>99</td>\n",
       "      <td>99</td>\n",
       "    </tr>\n",
       "  </tbody>\n",
       "</table>\n",
       "</div>"
      ],
      "text/plain": [
       "         bmi  physical_activity  mental_activity  alcohol  smoking  \\\n",
       "0  20.132348                  1                1        0        0   \n",
       "1  20.528922                  3                4        1        0   \n",
       "2  20.515086                  4                4        3        1   \n",
       "3  20.415225                  2                4        0        0   \n",
       "4  18.066167                  2                2        1        0   \n",
       "\n",
       "   social_rhythm  positive_mental_score_t1  negative_mental_score_t1  \\\n",
       "0             25                        26                         1   \n",
       "1             44                        14                        25   \n",
       "2             40                        27                         3   \n",
       "3             14                        19                         1   \n",
       "4             36                        24                         2   \n",
       "\n",
       "   positive_mental_score_t2  negative_mental_score_t2  \n",
       "0                        21                         9  \n",
       "1                        18                         7  \n",
       "2                        99                        99  \n",
       "3                        26                         1  \n",
       "4                        99                        99  "
      ]
     },
     "execution_count": 116,
     "metadata": {},
     "output_type": "execute_result"
    }
   ],
   "source": [
    "data_new.head()"
   ]
  },
  {
   "cell_type": "code",
   "execution_count": 118,
   "id": "00830288",
   "metadata": {},
   "outputs": [
    {
     "data": {
      "text/html": [
       "<div>\n",
       "<style scoped>\n",
       "    .dataframe tbody tr th:only-of-type {\n",
       "        vertical-align: middle;\n",
       "    }\n",
       "\n",
       "    .dataframe tbody tr th {\n",
       "        vertical-align: top;\n",
       "    }\n",
       "\n",
       "    .dataframe thead th {\n",
       "        text-align: right;\n",
       "    }\n",
       "</style>\n",
       "<table border=\"1\" class=\"dataframe\">\n",
       "  <thead>\n",
       "    <tr style=\"text-align: right;\">\n",
       "      <th></th>\n",
       "      <th>bmi</th>\n",
       "      <th>physical_activity</th>\n",
       "      <th>mental_activity</th>\n",
       "      <th>alcohol</th>\n",
       "      <th>smoking</th>\n",
       "      <th>social_rhythm</th>\n",
       "      <th>score</th>\n",
       "    </tr>\n",
       "  </thead>\n",
       "  <tbody>\n",
       "    <tr>\n",
       "      <th>0</th>\n",
       "      <td>20.132348</td>\n",
       "      <td>1</td>\n",
       "      <td>1</td>\n",
       "      <td>0</td>\n",
       "      <td>0</td>\n",
       "      <td>25</td>\n",
       "      <td>1035</td>\n",
       "    </tr>\n",
       "    <tr>\n",
       "      <th>1</th>\n",
       "      <td>20.528922</td>\n",
       "      <td>3</td>\n",
       "      <td>4</td>\n",
       "      <td>1</td>\n",
       "      <td>0</td>\n",
       "      <td>44</td>\n",
       "      <td>-154</td>\n",
       "    </tr>\n",
       "    <tr>\n",
       "      <th>2</th>\n",
       "      <td>20.515086</td>\n",
       "      <td>4</td>\n",
       "      <td>4</td>\n",
       "      <td>3</td>\n",
       "      <td>1</td>\n",
       "      <td>40</td>\n",
       "      <td>720</td>\n",
       "    </tr>\n",
       "    <tr>\n",
       "      <th>3</th>\n",
       "      <td>20.415225</td>\n",
       "      <td>2</td>\n",
       "      <td>4</td>\n",
       "      <td>0</td>\n",
       "      <td>0</td>\n",
       "      <td>14</td>\n",
       "      <td>1035</td>\n",
       "    </tr>\n",
       "    <tr>\n",
       "      <th>4</th>\n",
       "      <td>18.066167</td>\n",
       "      <td>2</td>\n",
       "      <td>2</td>\n",
       "      <td>1</td>\n",
       "      <td>0</td>\n",
       "      <td>36</td>\n",
       "      <td>572</td>\n",
       "    </tr>\n",
       "  </tbody>\n",
       "</table>\n",
       "</div>"
      ],
      "text/plain": [
       "         bmi  physical_activity  mental_activity  alcohol  smoking  \\\n",
       "0  20.132348                  1                1        0        0   \n",
       "1  20.528922                  3                4        1        0   \n",
       "2  20.515086                  4                4        3        1   \n",
       "3  20.415225                  2                4        0        0   \n",
       "4  18.066167                  2                2        1        0   \n",
       "\n",
       "   social_rhythm  score  \n",
       "0             25   1035  \n",
       "1             44   -154  \n",
       "2             40    720  \n",
       "3             14   1035  \n",
       "4             36    572  "
      ]
     },
     "execution_count": 118,
     "metadata": {},
     "output_type": "execute_result"
    }
   ],
   "source": [
    "data_train = data_new.loc[:, input_cols]\n",
    "data_train[\"score\"] = composite_scores\n",
    "data_train.head()"
   ]
  },
  {
   "cell_type": "code",
   "execution_count": 120,
   "id": "64759a75",
   "metadata": {},
   "outputs": [],
   "source": [
    "import matplotlib.pyplot as plt\n",
    "import numpy as np\n",
    "import pandas as pd"
   ]
  },
  {
   "cell_type": "code",
   "execution_count": null,
   "id": "10fef8c1",
   "metadata": {},
   "outputs": [],
   "source": []
  }
 ],
 "metadata": {
  "kernelspec": {
   "display_name": "Python 3",
   "language": "python",
   "name": "python3"
  },
  "language_info": {
   "codemirror_mode": {
    "name": "ipython",
    "version": 3
   },
   "file_extension": ".py",
   "mimetype": "text/x-python",
   "name": "python",
   "nbconvert_exporter": "python",
   "pygments_lexer": "ipython3",
   "version": "3.8.10"
  }
 },
 "nbformat": 4,
 "nbformat_minor": 5
}
